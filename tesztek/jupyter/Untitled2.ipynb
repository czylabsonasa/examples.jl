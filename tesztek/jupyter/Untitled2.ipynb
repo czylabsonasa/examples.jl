{
 "cells": [
  {
   "cell_type": "code",
   "execution_count": 7,
   "id": "29753639",
   "metadata": {
    "ExecuteTime": {
     "end_time": "2021-10-01T21:58:26.433000+02:00",
     "start_time": "2021-10-01T19:58:26.382Z"
    }
   },
   "outputs": [],
   "source": [
    "N = 10\n",
    "R = 10\n",
    "bars = rand(1:R, N)\n",
    "mom = fill(typemax(Int), N)\n",
    "mom[1] = bars[1]\n",
    "mom[N] = bars[N]\n",
    "l, r = 2, N-1\n",
    "while r>0\n",
    "  mom[r] = min( max(bars[r], mom[r+1]), mom[r] )\n",
    "  mom[l] = min( max(bars[l], mom[l-1]), mom[l] )\n",
    "  r -= 1\n",
    "  l += 1\n",
    "end"
   ]
  },
  {
   "cell_type": "code",
   "execution_count": 10,
   "id": "7a8e2f9f",
   "metadata": {
    "ExecuteTime": {
     "end_time": "2021-10-01T22:04:08.806000+02:00",
     "start_time": "2021-10-01T20:04:08.769Z"
    }
   },
   "outputs": [
    {
     "ename": "LoadError",
     "evalue": "MethodError: no method matching Val{:bar}(::Char, ::Char, ::Char, ::Char, ::Char, ::Char, ::Char, ::Char, ::Char, ::Char, ::Char, ::Char, ::Char, ::Char, ::Char, ::Char, ::Char, ::Char, ::Char, ::Char, ::Char, ::Char, ::Char, ::Char, ::Char, ::Char, ::Char, ::Char, ::Char, ::Char, ::Char, ::Char)",
     "output_type": "error",
     "traceback": [
      "MethodError: no method matching Val{:bar}(::Char, ::Char, ::Char, ::Char, ::Char, ::Char, ::Char, ::Char, ::Char, ::Char, ::Char, ::Char, ::Char, ::Char, ::Char, ::Char, ::Char, ::Char, ::Char, ::Char, ::Char, ::Char, ::Char, ::Char, ::Char, ::Char, ::Char, ::Char, ::Char, ::Char, ::Char, ::Char)",
      "",
      "Stacktrace:",
      "  [1] apply_recipe(plotattributes::Dict{Symbol, Any}, #unused#::Type{Val{:bar}}, plt::Plots.Plot{Plots.GRBackend})",
      "    @ Plots ~/.julia/packages/Plots/HcxwM/src/recipes.jl:49",
      "  [2] _process_plotrecipe(plt::Any, kw::Any, kw_list::Any, still_to_process::Any)",
      "    @ RecipesPipeline ~/.julia/packages/RecipesPipeline/3x4B9/src/plot_recipe.jl:32",
      "  [3] _process_plotrecipes!(plt::Any, kw_list::Any)",
      "    @ RecipesPipeline ~/.julia/packages/RecipesPipeline/3x4B9/src/plot_recipe.jl:18",
      "  [4] recipe_pipeline!(plt::Any, plotattributes::Any, args::Any)",
      "    @ RecipesPipeline ~/.julia/packages/RecipesPipeline/3x4B9/src/RecipesPipeline.jl:81",
      "  [5] _plot!(plt::Plots.Plot, plotattributes::Any, args::Any)",
      "    @ Plots ~/.julia/packages/Plots/HcxwM/src/plot.jl:208",
      "  [6] #plot#154",
      "    @ ~/.julia/packages/Plots/HcxwM/src/plot.jl:91 [inlined]",
      "  [7] bar(::Any, ::Vararg{Any, N} where N; kw::Any)",
      "    @ Plots ~/.julia/packages/RecipesBase/3fzVq/src/RecipesBase.jl:404",
      "  [8] top-level scope",
      "    @ In[10]:2",
      "  [9] eval",
      "    @ ./boot.jl:360 [inlined]",
      " [10] include_string(mapexpr::typeof(REPL.softscope), mod::Module, code::String, filename::String)",
      "    @ Base ./loading.jl:1094"
     ]
    }
   ],
   "source": [
    "using Plots\n",
    "bar(bars, xticks=(1:N, 1:N))\n"
   ]
  },
  {
   "cell_type": "code",
   "execution_count": 9,
   "id": "f37da58e",
   "metadata": {
    "ExecuteTime": {
     "end_time": "2021-10-01T21:59:33.315000+02:00",
     "start_time": "2021-10-01T19:59:33.104Z"
    }
   },
   "outputs": [
    {
     "ename": "LoadError",
     "evalue": "MethodError: no method matching Val{:bar}(::Char, ::Char, ::Char, ::Char, ::Char, ::Char, ::Char, ::Char, ::Char, ::Char, ::Char, ::Char, ::Char, ::Char, ::Char, ::Char, ::Char, ::Char, ::Char, ::Char, ::Char, ::Char, ::Char, ::Char, ::Char, ::Char, ::Char, ::Char, ::Char, ::Char, ::Char, ::Char)",
     "output_type": "error",
     "traceback": [
      "MethodError: no method matching Val{:bar}(::Char, ::Char, ::Char, ::Char, ::Char, ::Char, ::Char, ::Char, ::Char, ::Char, ::Char, ::Char, ::Char, ::Char, ::Char, ::Char, ::Char, ::Char, ::Char, ::Char, ::Char, ::Char, ::Char, ::Char, ::Char, ::Char, ::Char, ::Char, ::Char, ::Char, ::Char, ::Char)",
      "",
      "Stacktrace:",
      "  [1] apply_recipe(plotattributes::Dict{Symbol, Any}, #unused#::Type{Val{:bar}}, plt::Plots.Plot{Plots.GRBackend})",
      "    @ Plots ~/.julia/packages/Plots/HcxwM/src/recipes.jl:49",
      "  [2] _process_plotrecipe(plt::Any, kw::Any, kw_list::Any, still_to_process::Any)",
      "    @ RecipesPipeline ~/.julia/packages/RecipesPipeline/3x4B9/src/plot_recipe.jl:32",
      "  [3] _process_plotrecipes!(plt::Any, kw_list::Any)",
      "    @ RecipesPipeline ~/.julia/packages/RecipesPipeline/3x4B9/src/plot_recipe.jl:18",
      "  [4] recipe_pipeline!(plt::Any, plotattributes::Any, args::Any)",
      "    @ RecipesPipeline ~/.julia/packages/RecipesPipeline/3x4B9/src/RecipesPipeline.jl:81",
      "  [5] _plot!(plt::Plots.Plot, plotattributes::Any, args::Any)",
      "    @ Plots ~/.julia/packages/Plots/HcxwM/src/plot.jl:208",
      "  [6] #plot#154",
      "    @ ~/.julia/packages/Plots/HcxwM/src/plot.jl:91 [inlined]",
      "  [7] bar(::Any, ::Vararg{Any, N} where N; kw::Any)",
      "    @ Plots ~/.julia/packages/RecipesBase/3fzVq/src/RecipesBase.jl:404",
      "  [8] top-level scope",
      "    @ In[9]:2",
      "  [9] eval",
      "    @ ./boot.jl:360 [inlined]",
      " [10] include_string(mapexpr::typeof(REPL.softscope), mod::Module, code::String, filename::String)",
      "    @ Base ./loading.jl:1094"
     ]
    }
   ],
   "source": [
    "ticklabel = string.(collect('a':'l'))\n",
    "bar(1:12, orientation=:h, yticks=(1:12, ticklabel), yflip=true)\n",
    "\n"
   ]
  },
  {
   "cell_type": "code",
   "execution_count": null,
   "id": "68086cbb",
   "metadata": {},
   "outputs": [],
   "source": []
  }
 ],
 "metadata": {
  "kernelspec": {
   "display_name": "Julia 1.6.0",
   "language": "julia",
   "name": "julia-1.6"
  },
  "language_info": {
   "file_extension": ".jl",
   "mimetype": "application/julia",
   "name": "julia",
   "version": "1.6.0"
  },
  "latex_envs": {
   "LaTeX_envs_menu_present": true,
   "autoclose": false,
   "autocomplete": true,
   "bibliofile": "biblio.bib",
   "cite_by": "apalike",
   "current_citInitial": 1,
   "eqLabelWithNumbers": false,
   "eqNumInitial": 1,
   "hotkeys": {
    "equation": "Ctrl-E",
    "itemize": "Ctrl-I"
   },
   "labels_anchors": false,
   "latex_user_defs": false,
   "report_style_numbering": false,
   "user_envs_cfg": false
  },
  "toc": {
   "base_numbering": 1,
   "nav_menu": {},
   "number_sections": false,
   "sideBar": true,
   "skip_h1_title": true,
   "title_cell": "Table of Contents",
   "title_sidebar": "Contents",
   "toc_cell": false,
   "toc_position": {},
   "toc_section_display": true,
   "toc_window_display": false
  }
 },
 "nbformat": 4,
 "nbformat_minor": 5
}
