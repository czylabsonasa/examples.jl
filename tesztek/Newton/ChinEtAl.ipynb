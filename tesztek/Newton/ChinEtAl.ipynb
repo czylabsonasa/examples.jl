{
 "cells": [
  {
   "cell_type": "code",
   "execution_count": 9,
   "metadata": {
    "ExecuteTime": {
     "end_time": "2021-05-24T07:21:05.951000+02:00",
     "start_time": "2021-05-24T05:21:04.297Z"
    }
   },
   "outputs": [
    {
     "name": "stdout",
     "output_type": "stream",
     "text": [
      "3.5 -0.8724951623964582 (0.4054651090477955, 5.160458794521399e-9)\n",
      "3.6 0.18359497259932633 (0.4700036298343346, 6.410636181774521e-9)\n",
      "3.7 0.3541477975444564 (0.5306282515768215, 6.149307333146819e-9)\n",
      "3.8 0.43271779616186334 (0.5877866653545405, 8.018667739990656e-9)\n",
      "3.9 0.4965822831178736 (0.6418538865703924, 8.01294478238774e-9)\n",
      "4.0 0.6931415596670596 (0.6931471798994806, 9.654793620571902e-9)\n",
      "4.1 Inf (0.7419373443307671, 9.006921956711393e-9)\n"
     ]
    }
   ],
   "source": [
    "using LaTeXStrings\n",
    "using Statistics\n",
    "using Plots\n",
    "using QuadGK\n",
    "\n",
    "function Logistic()\n",
    "  φ(x,λ)=λ*x*(1-x)\n",
    "  ∂φ(x,λ)=λ*(1-2x)\n",
    "  # Newton iterációs f  a φ-hez, csak a gyoke kell\n",
    "  root_f(λ)=1-1/λ\n",
    "\n",
    "  φ,∂φ,root_f\n",
    "end\n",
    "\n",
    "function Boole()\n",
    "  φ(x,λ)=λ*x*(1-1/x^2)\n",
    "  ∂φ(x,λ)=λ*(1+1/x^2)\n",
    "  # Newton iterációs f  a φ-hez, csak a gyoke kell\n",
    "  root_f(λ)=1-1/λ\n",
    "\n",
    "  φ,∂φ,root_f\n",
    "end\n",
    "\n",
    "\n",
    "\n",
    "\n",
    "\n",
    "\n",
    "\n",
    "# length of the orbit\n",
    "n=10^5\n",
    "\n",
    "for λ in 3.5:0.1:4.1\n",
    "  φ(x)=φ(x,λ)\n",
    "  ∂φ(x)=∂φ(x,λ)\n",
    "  x=rand()\n",
    "  left=0.0\n",
    "  for k in 1:n\n",
    "    left=left+log(abs(∂φ(x)))\n",
    "    x=φ(x)\n",
    "  end\n",
    "  left=left/n\n",
    "  \n",
    "  μ=root_f(λ)\n",
    "  F(x,δ)=log(abs(∂φ(x,λ)))*1/((π*δ)*(1+(x-μ)^2/δ^2))\n",
    "  right=quadgk(x->F(x,1e-6),-Inf,Inf)\n",
    "  \n",
    "  println(λ,\" \",left,\" \",right)\n",
    "end\n"
   ]
  },
  {
   "cell_type": "code",
   "execution_count": null,
   "metadata": {},
   "outputs": [],
   "source": []
  },
  {
   "cell_type": "code",
   "execution_count": null,
   "metadata": {},
   "outputs": [],
   "source": []
  }
 ],
 "metadata": {
  "kernelspec": {
   "display_name": "Julia 1.6.0",
   "language": "julia",
   "name": "julia-1.6"
  },
  "language_info": {
   "file_extension": ".jl",
   "mimetype": "application/julia",
   "name": "julia",
   "version": "1.6.0"
  },
  "latex_envs": {
   "LaTeX_envs_menu_present": true,
   "autoclose": false,
   "autocomplete": true,
   "bibliofile": "biblio.bib",
   "cite_by": "apalike",
   "current_citInitial": 1,
   "eqLabelWithNumbers": false,
   "eqNumInitial": 1,
   "hotkeys": {
    "equation": "Ctrl-E",
    "itemize": "Ctrl-I"
   },
   "labels_anchors": false,
   "latex_user_defs": false,
   "report_style_numbering": false,
   "user_envs_cfg": false
  },
  "toc": {
   "base_numbering": 1,
   "nav_menu": {},
   "number_sections": false,
   "sideBar": true,
   "skip_h1_title": true,
   "title_cell": "Table of Contents",
   "title_sidebar": "Contents",
   "toc_cell": false,
   "toc_position": {},
   "toc_section_display": true,
   "toc_window_display": false
  }
 },
 "nbformat": 4,
 "nbformat_minor": 4
}
